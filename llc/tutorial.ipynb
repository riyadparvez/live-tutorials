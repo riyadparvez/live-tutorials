{
 "cells": [
  {
   "cell_type": "code",
   "execution_count": 1,
   "metadata": {},
   "outputs": [
    {
     "name": "stdout",
     "output_type": "stream",
     "text": [
      "None\n"
     ]
    }
   ],
   "source": [
    "# None\n",
    "a = None\n",
    "print(a)"
   ]
  },
  {
   "cell_type": "code",
   "execution_count": 2,
   "metadata": {},
   "outputs": [
    {
     "name": "stdout",
     "output_type": "stream",
     "text": [
      "a is None\n"
     ]
    }
   ],
   "source": [
    "# None means non-existence of data\n",
    "raining_tomorrow = None\n",
    "a = None\n",
    "if a == None:\n",
    "    print(\"a is None\")"
   ]
  },
  {
   "cell_type": "code",
   "execution_count": 4,
   "metadata": {},
   "outputs": [
    {
     "name": "stdout",
     "output_type": "stream",
     "text": [
      "a is None\n"
     ]
    }
   ],
   "source": [
    "if a != None:\n",
    "    print(\"a is not None\")\n",
    "else:\n",
    "    print(\"a is None\")"
   ]
  },
  {
   "cell_type": "code",
   "execution_count": 5,
   "metadata": {},
   "outputs": [],
   "source": [
    "# NA -> Not Available"
   ]
  },
  {
   "cell_type": "code",
   "execution_count": 6,
   "metadata": {},
   "outputs": [
    {
     "name": "stdout",
     "output_type": "stream",
     "text": [
      "{'k': 'v', 'one': 1}\n"
     ]
    }
   ],
   "source": [
    "# Dictionary is a collection of key value pairs\n",
    "# (key, value)\n",
    "# [(key1, value1), (key2, value2) ...... ]\n",
    "\n",
    "d = { 'k': 'v',\n",
    "      'one': 1 }\n",
    "print(d)"
   ]
  },
  {
   "cell_type": "code",
   "execution_count": 8,
   "metadata": {},
   "outputs": [
    {
     "name": "stdout",
     "output_type": "stream",
     "text": [
      "{}\n"
     ]
    }
   ],
   "source": [
    "d = {}\n",
    "print(d)"
   ]
  },
  {
   "cell_type": "code",
   "execution_count": 9,
   "metadata": {},
   "outputs": [
    {
     "name": "stdout",
     "output_type": "stream",
     "text": [
      "{'one': 1}\n"
     ]
    }
   ],
   "source": [
    "d['one'] = 1\n",
    "print(d)"
   ]
  },
  {
   "cell_type": "code",
   "execution_count": 10,
   "metadata": {},
   "outputs": [
    {
     "name": "stdout",
     "output_type": "stream",
     "text": [
      "1\n"
     ]
    }
   ],
   "source": [
    "print(d['one'])"
   ]
  },
  {
   "cell_type": "code",
   "execution_count": 11,
   "metadata": {},
   "outputs": [
    {
     "name": "stdout",
     "output_type": "stream",
     "text": [
      "{'one': 1, 'list_of_numbers': [1, 2, 3, 5]}\n"
     ]
    }
   ],
   "source": [
    "d['list_of_numbers'] = [1, 2, 3, 5]\n",
    "print(d)"
   ]
  },
  {
   "cell_type": "code",
   "execution_count": 12,
   "metadata": {},
   "outputs": [
    {
     "name": "stdout",
     "output_type": "stream",
     "text": [
      "{'one': 1, 'list_of_numbers': [1, 2, 3, 5], 'none_key': None}\n"
     ]
    }
   ],
   "source": [
    "d['none_key'] = None\n",
    "print(d)"
   ]
  },
  {
   "cell_type": "code",
   "execution_count": 13,
   "metadata": {},
   "outputs": [
    {
     "name": "stdout",
     "output_type": "stream",
     "text": [
      "{'one': 1, 'list_of_numbers': [1, 2, 3, 5], 'none_key': None, 'numbers': 2}\n"
     ]
    }
   ],
   "source": [
    "d['numbers'] = 2\n",
    "print(d)"
   ]
  },
  {
   "cell_type": "code",
   "execution_count": 14,
   "metadata": {},
   "outputs": [
    {
     "name": "stdout",
     "output_type": "stream",
     "text": [
      "{'list_of_numbers': [1, 2, 3, 5],\n",
      " 'nested_dict': {'desintation': 'something', 'name': 'John'},\n",
      " 'none_key': None,\n",
      " 'numbers': 2,\n",
      " 'one': 1}\n"
     ]
    }
   ],
   "source": [
    "from pprint import pprint\n",
    "\n",
    "d['nested_dict'] = {'name': 'John', 'desintation': 'something'}\n",
    "pprint(d)"
   ]
  },
  {
   "cell_type": "code",
   "execution_count": 15,
   "metadata": {},
   "outputs": [
    {
     "name": "stdout",
     "output_type": "stream",
     "text": [
      "{12345: [2, 3, 4],\n",
      " 'list_of_numbers': [1, 2, 3, 5],\n",
      " 'nested_dict': {'desintation': 'something', 'name': 'John'},\n",
      " 'none_key': None,\n",
      " 'numbers': 2,\n",
      " 'one': 1}\n"
     ]
    }
   ],
   "source": [
    "d[12345] = [2,3,4]\n",
    "pprint(d)"
   ]
  },
  {
   "cell_type": "code",
   "execution_count": 17,
   "metadata": {},
   "outputs": [
    {
     "name": "stdout",
     "output_type": "stream",
     "text": [
      "{'one': 1, 'list_of_numbers': [1, 2, 3, 5], 'none_key': None, 'numbers': 2, 'nested_dict': {'name': 'John', 'desintation': 'something'}, 12345: [2, 3, 4]}\n"
     ]
    }
   ],
   "source": [
    "print(d)"
   ]
  },
  {
   "cell_type": "code",
   "execution_count": 18,
   "metadata": {},
   "outputs": [
    {
     "name": "stdout",
     "output_type": "stream",
     "text": [
      "{12345: [2, 3, 4],\n",
      " 'list_of_numbers': [1, 2, 3, 5],\n",
      " 'nested_dict': {'desintation': 'something', 'name': 'John'},\n",
      " 'none_key': None,\n",
      " 'numbers': 2,\n",
      " 'one': 1}\n"
     ]
    }
   ],
   "source": [
    "pprint(d)"
   ]
  },
  {
   "cell_type": "code",
   "execution_count": 19,
   "metadata": {},
   "outputs": [
    {
     "name": "stdout",
     "output_type": "stream",
     "text": [
      "('one', 1)\n",
      "('list_of_numbers', [1, 2, 3, 5])\n",
      "('none_key', None)\n",
      "('numbers', 2)\n",
      "('nested_dict', {'name': 'John', 'desintation': 'something'})\n",
      "(12345, [2, 3, 4])\n"
     ]
    }
   ],
   "source": [
    "for kv in d.items():\n",
    "    print(kv)"
   ]
  },
  {
   "cell_type": "code",
   "execution_count": 20,
   "metadata": {},
   "outputs": [
    {
     "name": "stdout",
     "output_type": "stream",
     "text": [
      "dict_items([('one', 1), ('list_of_numbers', [1, 2, 3, 5]), ('none_key', None), ('numbers', 2), ('nested_dict', {'name': 'John', 'desintation': 'something'}), (12345, [2, 3, 4])])\n"
     ]
    }
   ],
   "source": [
    "print(d.items())"
   ]
  },
  {
   "cell_type": "code",
   "execution_count": 21,
   "metadata": {},
   "outputs": [
    {
     "ename": "KeyError",
     "evalue": "'key doesnt exist'",
     "output_type": "error",
     "traceback": [
      "\u001b[0;31m---------------------------------------------------------------------------\u001b[0m",
      "\u001b[0;31mKeyError\u001b[0m                                  Traceback (most recent call last)",
      "\u001b[0;32m<ipython-input-21-9e6bfd973304>\u001b[0m in \u001b[0;36m<module>\u001b[0;34m\u001b[0m\n\u001b[0;32m----> 1\u001b[0;31m \u001b[0md\u001b[0m\u001b[0;34m[\u001b[0m\u001b[0;34m'key doesnt exist'\u001b[0m\u001b[0;34m]\u001b[0m\u001b[0;34m\u001b[0m\u001b[0;34m\u001b[0m\u001b[0m\n\u001b[0m",
      "\u001b[0;31mKeyError\u001b[0m: 'key doesnt exist'"
     ]
    }
   ],
   "source": [
    "d['key doesnt exist']"
   ]
  },
  {
   "cell_type": "code",
   "execution_count": 22,
   "metadata": {},
   "outputs": [
    {
     "name": "stdout",
     "output_type": "stream",
     "text": [
      "exists\n"
     ]
    }
   ],
   "source": [
    "if 'one' in d:\n",
    "    print('exists')"
   ]
  },
  {
   "cell_type": "code",
   "execution_count": 23,
   "metadata": {},
   "outputs": [
    {
     "name": "stdout",
     "output_type": "stream",
     "text": [
      "doesnt exist\n"
     ]
    }
   ],
   "source": [
    "if 'key doesnt exist' in d:\n",
    "    print('exists')\n",
    "else:\n",
    "    print('doesnt exist')"
   ]
  },
  {
   "cell_type": "code",
   "execution_count": 24,
   "metadata": {},
   "outputs": [
    {
     "name": "stdout",
     "output_type": "stream",
     "text": [
      "None\n"
     ]
    }
   ],
   "source": [
    "if 'none_key' in d:\n",
    "    print(d['none_key'])"
   ]
  },
  {
   "cell_type": "code",
   "execution_count": 27,
   "metadata": {},
   "outputs": [
    {
     "name": "stdout",
     "output_type": "stream",
     "text": [
      "{12345: [2, 3, 4],\n",
      " 'list_of_numbers': [1, 2, 3, 5],\n",
      " 'nested_dict': {'desintation': 'something', 'name': 'John'},\n",
      " 'one': 1}\n"
     ]
    }
   ],
   "source": [
    "del d['numbers']\n",
    "pprint(d)"
   ]
  },
  {
   "cell_type": "code",
   "execution_count": 28,
   "metadata": {},
   "outputs": [],
   "source": [
    "import csv"
   ]
  },
  {
   "cell_type": "code",
   "execution_count": 31,
   "metadata": {},
   "outputs": [
    {
     "name": "stdout",
     "output_type": "stream",
     "text": [
      "City,Province,Chapter Lead(s)\n",
      "Vancouver,BC,Meghan\n",
      "Calgary,AB,Darcie\n",
      "Edmonton,AB,Bree & Dana\n",
      "Saskatoon,SK,Brittany & Marli\n",
      "Winnipeg,MB,Michelle & Jessica\n",
      "Toronto,ON,Lindsay\n",
      "Barrie,ON,Christine\n",
      "Hamilton,ON,Meg & Abena\n",
      "Halifax,NS,Christopher & Jennifer\n",
      "Fredericton,NB,Lisa\n",
      "London,ON,Kelly & Jennie\n",
      "Montreal,QC,Erika & Cassie\n",
      "Ottawa,ON,Jasmine & Cassie\n",
      "St Johns,NL,Dana\n",
      "Victoria,BC,Erin & Christina\n",
      "Waterloo,ON,Amandah\n",
      "Quebec,QC, Guillaume & Karine\n",
      "\n"
     ]
    }
   ],
   "source": [
    "with open('/home/riyad/Downloads/llc-intro-to-python-master/exercises/llc-chapters.csv') as f:\n",
    "    print(f.read())"
   ]
  },
  {
   "cell_type": "code",
   "execution_count": 34,
   "metadata": {},
   "outputs": [
    {
     "name": "stdout",
     "output_type": "stream",
     "text": [
      "OrderedDict([('City', 'Vancouver'), ('Province', 'BC'), ('Chapter Lead(s)', 'Meghan')])\n",
      "OrderedDict([('City', 'Calgary'), ('Province', 'AB'), ('Chapter Lead(s)', 'Darcie')])\n",
      "OrderedDict([('City', 'Edmonton'), ('Province', 'AB'), ('Chapter Lead(s)', 'Bree & Dana')])\n",
      "OrderedDict([('City', 'Saskatoon'), ('Province', 'SK'), ('Chapter Lead(s)', 'Brittany & Marli')])\n",
      "OrderedDict([('City', 'Winnipeg'), ('Province', 'MB'), ('Chapter Lead(s)', 'Michelle & Jessica')])\n",
      "OrderedDict([('City', 'Toronto'), ('Province', 'ON'), ('Chapter Lead(s)', 'Lindsay')])\n",
      "OrderedDict([('City', 'Barrie'), ('Province', 'ON'), ('Chapter Lead(s)', 'Christine')])\n",
      "OrderedDict([('City', 'Hamilton'), ('Province', 'ON'), ('Chapter Lead(s)', 'Meg & Abena')])\n",
      "OrderedDict([('City', 'Halifax'), ('Province', 'NS'), ('Chapter Lead(s)', 'Christopher & Jennifer')])\n",
      "OrderedDict([('City', 'Fredericton'), ('Province', 'NB'), ('Chapter Lead(s)', 'Lisa')])\n",
      "OrderedDict([('City', 'London'), ('Province', 'ON'), ('Chapter Lead(s)', 'Kelly & Jennie')])\n",
      "OrderedDict([('City', 'Montreal'), ('Province', 'QC'), ('Chapter Lead(s)', 'Erika & Cassie')])\n",
      "OrderedDict([('City', 'Ottawa'), ('Province', 'ON'), ('Chapter Lead(s)', 'Jasmine & Cassie')])\n",
      "OrderedDict([('City', 'St Johns'), ('Province', 'NL'), ('Chapter Lead(s)', 'Dana')])\n",
      "OrderedDict([('City', 'Victoria'), ('Province', 'BC'), ('Chapter Lead(s)', 'Erin & Christina')])\n",
      "OrderedDict([('City', 'Waterloo'), ('Province', 'ON'), ('Chapter Lead(s)', 'Amandah')])\n",
      "OrderedDict([('City', 'Quebec'), ('Province', 'QC'), ('Chapter Lead(s)', ' Guillaume & Karine')])\n"
     ]
    }
   ],
   "source": [
    "with open('/home/riyad/Downloads/llc-intro-to-python-master/exercises/llc-chapters.csv') as f:\n",
    "    dict_reader = csv.DictReader(f)\n",
    "    for element in dict_reader:\n",
    "        print(element)"
   ]
  },
  {
   "cell_type": "code",
   "execution_count": 35,
   "metadata": {},
   "outputs": [
    {
     "name": "stdout",
     "output_type": "stream",
     "text": [
      "17\n"
     ]
    }
   ],
   "source": [
    "with open('/home/riyad/Downloads/llc-intro-to-python-master/exercises/llc-chapters.csv') as f:\n",
    "    dict_reader = csv.DictReader(f)\n",
    "    count = 0\n",
    "    for element in dict_reader:\n",
    "        count = count + 1\n",
    "print(count)"
   ]
  },
  {
   "cell_type": "code",
   "execution_count": 36,
   "metadata": {},
   "outputs": [
    {
     "data": {
      "text/plain": [
       "8"
      ]
     },
     "execution_count": 36,
     "metadata": {},
     "output_type": "execute_result"
    }
   ],
   "source": [
    "s = \"My name is something\"\n",
    "s.find('is')"
   ]
  },
  {
   "cell_type": "code",
   "execution_count": 37,
   "metadata": {},
   "outputs": [
    {
     "data": {
      "text/plain": [
       "-1"
      ]
     },
     "execution_count": 37,
     "metadata": {},
     "output_type": "execute_result"
    }
   ],
   "source": [
    "s.find('none')"
   ]
  },
  {
   "cell_type": "code",
   "execution_count": 38,
   "metadata": {},
   "outputs": [
    {
     "data": {
      "text/plain": [
       "16"
      ]
     },
     "execution_count": 38,
     "metadata": {},
     "output_type": "execute_result"
    }
   ],
   "source": [
    "\"Ladies Learning Code\".find(\"Code\")"
   ]
  },
  {
   "cell_type": "code",
   "execution_count": 39,
   "metadata": {},
   "outputs": [
    {
     "data": {
      "text/plain": [
       "-1"
      ]
     },
     "execution_count": 39,
     "metadata": {},
     "output_type": "execute_result"
    }
   ],
   "source": [
    "\"Ladies Learning Code\".find(\"Canada\")"
   ]
  },
  {
   "cell_type": "code",
   "execution_count": 40,
   "metadata": {},
   "outputs": [
    {
     "name": "stdout",
     "output_type": "stream",
     "text": [
      "Psotivie review\n"
     ]
    }
   ],
   "source": [
    "if \"good product\".find('good') >= 0:\n",
    "    print('Psotivie review')\n",
    "else:\n",
    "    print('Neagative review')"
   ]
  }
 ],
 "metadata": {
  "kernelspec": {
   "display_name": "Python 3",
   "language": "python",
   "name": "python3"
  },
  "language_info": {
   "codemirror_mode": {
    "name": "ipython",
    "version": 3
   },
   "file_extension": ".py",
   "mimetype": "text/x-python",
   "name": "python",
   "nbconvert_exporter": "python",
   "pygments_lexer": "ipython3",
   "version": "3.6.7"
  }
 },
 "nbformat": 4,
 "nbformat_minor": 2
}
